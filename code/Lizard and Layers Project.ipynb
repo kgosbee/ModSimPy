{
 "cells": [
  {
   "cell_type": "code",
   "execution_count": 60,
   "metadata": {},
   "outputs": [],
   "source": [
    "# Configure Jupyter so figures appear in the notebook\n",
    "%matplotlib inline\n",
    "\n",
    "# Configure Jupyter to display the assigned value after an assignment\n",
    "%config InteractiveShell.ast_node_interactivity='last_expr_or_assign'\n",
    "\n",
    "# import functions from the modsim library\n",
    "from modsim import *\n",
    "\n",
    "import matplotlib.pyplot as plt"
   ]
  },
  {
   "cell_type": "markdown",
   "metadata": {},
   "source": [
    "## Keeping Lizards Warm with Layers"
   ]
  },
  {
   "cell_type": "code",
   "execution_count": 95,
   "metadata": {},
   "outputs": [],
   "source": [
    "def make_system(Tenv, kW, kP, kS,depth, delta, dt, side_length):\n",
    "    \"\"\"Make a system object for the Lizard model.\n",
    "    \n",
    "    \n",
    "    returns: System object\n",
    "    \n",
    "    \"\"\"\n",
    "    init = State(S=26.7, P=26.7, W=26.7, L= 26.7)  \n",
    "    \n",
    "    t0 = 0\n",
    "    t_end = 365*(1/dt) #in days\n",
    "    dt = dt\n",
    "\n",
    "    return System(init=init, t0=t0, t_end=t_end, Tenv=Tenv, kW=kW, kP=kP, kS=kS,\n",
    "                  depth=depth, delta=delta, dt=dt, side_length=side_length)"
   ]
  },
  {
   "cell_type": "code",
   "execution_count": 96,
   "metadata": {},
   "outputs": [],
   "source": [
    "def update_func(state, t, system):\n",
    "    \"\"\"Update the model.\n",
    "    \n",
    "    returns: State ()    \n",
    "   \n",
    "    \"\"\"\n",
    "    unpack(system)\n",
    "    w, p, s, l = state\n",
    "   \n",
    "    dWdt = kW*(side_length**3)*(Tenv-w)/depth    \n",
    "    dPdt = kP*((side_length-.0127)**3)*(w-p)/depth\n",
    "    dSdt = kS*((side_length-.0254)**3)*(p-s)/depth\n",
    "    dLdt = ((side_length-.0381)**3)*0.5*(s-l)/(delta/2)\n",
    "    \n",
    "    w += dWdt*dt\n",
    "    p += dPdt*dt\n",
    "    s += dSdt*dt\n",
    "    l += dLdt*dt\n",
    "\n",
    "    return State(L=l, S=s, W=w, P=p)"
   ]
  },
  {
   "cell_type": "code",
   "execution_count": 97,
   "metadata": {},
   "outputs": [],
   "source": [
    "def run_simulation(system, update_func):\n",
    "    \"\"\"Runs a simulation of the system.\n",
    "        \n",
    "    system: System object\n",
    "    update_func: function that updates state\n",
    "    \n",
    "    returns: TimeFrame\n",
    "    \"\"\"\n",
    "    unpack(system)\n",
    "    \n",
    "    frame = TimeFrame(columns=init.index)\n",
    "    frame.row[t0] = init\n",
    "    \n",
    "    for t in linrange(t0, t_end):\n",
    "        frame.row[t+1] = update_func(frame.row[t], t, system)\n",
    "        #print(frame.row[t+1])\n",
    "        #print(t)\n",
    "    return frame"
   ]
  },
  {
   "cell_type": "code",
   "execution_count": 98,
   "metadata": {},
   "outputs": [],
   "source": [
    "def plot_results(L):\n",
    "    \"\"\"Plot the results of a SIR model.\n",
    "    \n",
    "    S: TimeSeries\n",
    "    I: TimeSeries\n",
    "    R: TimeSeries\n",
    "    \"\"\"\n",
    "    plot(L, '--', label='L')\n",
    "    decorate(xlabel='Time (days)',\n",
    "             ylabel='Temperature')"
   ]
  },
  {
   "cell_type": "code",
   "execution_count": 99,
   "metadata": {},
   "outputs": [
    {
     "data": {
      "image/png": "[encoded data removed]",
      "text/plain": [
       "<Figure size 432x288 with 1 Axes>"
      ]
     },
     "metadata": {
      "needs_background": "light"
     },
     "output_type": "display_data"
    }
   ],
   "source": [
    "system = make_system(-10, .07, .05, .03, .0127, .0762, 0.01, .2032)\n",
    "results = run_simulation(system, update_func)\n",
    "plot_results(results.L)"
   ]
  },
  {
   "cell_type": "code",
   "execution_count": null,
   "metadata": {},
   "outputs": [],
   "source": []
  }
 ],
 "metadata": {
  "kernelspec": {
   "display_name": "Python 3",
   "language": "python",
   "name": "python3"
  },
  "language_info": {
   "codemirror_mode": {
    "name": "ipython",
    "version": 3
   },
   "file_extension": ".py",
   "mimetype": "text/x-python",
   "name": "python",
   "nbconvert_exporter": "python",
   "pygments_lexer": "ipython3",
   "version": "3.6.6"
  }
 },
 "nbformat": 4,
 "nbformat_minor": 2
}
