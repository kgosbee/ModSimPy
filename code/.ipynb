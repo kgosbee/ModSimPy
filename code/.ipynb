{
 "cells": [
  {
   "cell_type": "code",
   "execution_count": 22,
   "metadata": {},
   "outputs": [],
   "source": [
    "# Configure Jupyter so figures appear in the notebook\n",
    "%matplotlib inline\n",
    "\n",
    "# Configure Jupyter to display the assigned value after an assignment\n",
    "%config InteractiveShell.ast_node_interactivity='last_expr_or_assign'\n",
    "\n",
    "# import functions from the modsim.py module\n",
    "from modsim import *\n",
    "\n",
    "from pandas import read_html"
   ]
  },
  {
   "cell_type": "code",
   "execution_count": 67,
   "metadata": {},
   "outputs": [],
   "source": [
    "#Tribble_Fish = System(none??)\n",
    "#Cute_Fish = System(birth_rate = 0.05\n",
    "#                   carrying_capacity = x)\n",
    "\n",
    "Cute_birth_rate = 0.05\n",
    "Cute_carrying_capacity = 100\n",
    "Cute_totalPop = Cute_carrying_capacity\n",
    "AR = 100\n",
    "tribble_total_pop = 2\n",
    "\n",
    "\n",
    "def update_cute_fish_annual_growth(AR):\n",
    "    Cute_death_rate = .05 + ((1-(AR/100)))*0.95\n",
    "    Cute_annual_growth = Cute_totalPop * (Cute_birth_rate - Cute_death_rate)\n",
    "    print(Cute_birth_rate - Cute_death_rate)\n",
    "    return Cute_annual_growth\n",
    "\n",
    "def update_tribble_pop(tribble_growth_rate):\n",
    "    tribble_annual_growth = tribble_total_pop * tribble_growth_rate\n",
    "    return (tribble_total_pop + tribble_annual_growth)"
   ]
  },
  {
   "cell_type": "code",
   "execution_count": 68,
   "metadata": {},
   "outputs": [
    {
     "name": "stdout",
     "output_type": "stream",
     "text": [
      "0      2\n",
      "1      2\n",
      "2      4\n",
      "3      6\n",
      "4      8\n",
      "5     10\n",
      "6     12\n",
      "7     14\n",
      "8     16\n",
      "9     18\n",
      "10    20\n",
      "11    22\n",
      "12    24\n",
      "13    26\n",
      "14    28\n",
      "15    30\n",
      "16    32\n",
      "17    34\n",
      "18    36\n",
      "19    38\n",
      "20    40\n",
      "dtype: int64\n"
     ]
    },
    {
     "data": {
      "image/png": "[encoded data removed]",
      "text/plain": [
       "<Figure size 432x288 with 1 Axes>"
      ]
     },
     "metadata": {
      "needs_background": "light"
     },
     "output_type": "display_data"
    }
   ],
   "source": [
    "def run_simulation():\n",
    "    results = TimeSeries()\n",
    "    results[0] = 2\n",
    "    for t in range(20):\n",
    "        tribble_total_pop = update_tribble_pop(t) #the ten can be changed throughout the different iterations of graphs\n",
    "        results[t+1] = tribble_total_pop  \n",
    "    print(results)\n",
    "    plot(results)\n",
    "    \n",
    "\n",
    "run_simulation()\n",
    "decorate(xlabel='Years Passed', \n",
    "         ylabel='Fish population',\n",
    "         title='Quadratic model')\n",
    "\n",
    "        \n",
    "        "
   ]
  },
  {
   "cell_type": "code",
   "execution_count": null,
   "metadata": {},
   "outputs": [],
   "source": []
  },
  {
   "cell_type": "code",
   "execution_count": null,
   "metadata": {},
   "outputs": [],
   "source": []
  }
 ],
 "metadata": {
  "kernelspec": {
   "display_name": "Python 3",
   "language": "python",
   "name": "python3"
  },
  "language_info": {
   "codemirror_mode": {
    "name": "ipython",
    "version": 3
   },
   "file_extension": ".py",
   "mimetype": "text/x-python",
   "name": "python",
   "nbconvert_exporter": "python",
   "pygments_lexer": "ipython3",
   "version": "3.6.6"
  }
 },
 "nbformat": 4,
 "nbformat_minor": 2
}
