{
 "cells": [
  {
   "cell_type": "code",
   "execution_count": 1,
   "metadata": {},
   "outputs": [],
   "source": [
    "# Configure Jupyter so figures appear in the notebook\n",
    "%matplotlib inline\n",
    "\n",
    "# Configure Jupyter to display the assigned value after an assignment\n",
    "%config InteractiveShell.ast_node_interactivity='last_expr_or_assign'\n",
    "\n",
    "# import functions from the modsim library\n",
    "from modsim import *"
   ]
  },
  {
   "cell_type": "markdown",
   "metadata": {},
   "source": [
    "## HIV Model"
   ]
  },
  {
   "cell_type": "code",
   "execution_count": 2,
   "metadata": {},
   "outputs": [],
   "source": [
    "def make_system(tau, gamma, mu, alpha, beta, delta, sigma, pi):\n",
    "    \"\"\"Make a system object for the SIR model.\n",
    "    \n",
    "    beta: \n",
    "    gamma: rate of new activated, uninfected CD4 lymphocytes\n",
    "    tau: proportion of lymphocytes that are activated\n",
    "    mu: HIV independent death rate\n",
    "    alpha: rate at which latently infected cells turn into activated infected cells\n",
    "    delta: rate of removal of infected cells\n",
    "    sigma: rate of removal of virions\n",
    "    pi : the rate at which free virions are produced\n",
    "    \n",
    "    returns: System object\n",
    "    \"\"\"\n",
    "    init = State(R=1000, L=0 E=0, V=100)  \"\"\"Activated, uninfected = R, latently infected = L, actively infected = E, free virions = V\"\"\"\n",
    "    \n",
    "    t0 = 0\n",
    "    t_end = 120\n",
    "\n",
    "    return System(init=init, beta=beta, gamma=gamma, tau=tau, mu=mu, alpha=alpha\n",
    "                  delta =delta, sigma = sigma)"
   ]
  },
  {
   "cell_type": "code",
   "execution_count": null,
   "metadata": {},
   "outputs": [],
   "source": [
    "def update_func(state, t, system):\n",
    "    \"\"\"Update the SIR model.\n",
    "    \n",
    "    state: State (s, i, r)\n",
    "    t: time\n",
    "    system: System object\n",
    "    \n",
    "    returns: State (sir)\n",
    "    \"\"\"\n",
    "    R, L, E, V = state\n",
    "\n",
    "    new_lymph = (E * system.gamma)\n",
    "    lymph_death = R - mu\n",
    "    Latently_infected = system.beta * V    \n",
    "    actively_infected = (system.alpha * Latently_infected)\n",
    "    actively_infected_fromR = (system.alpha * R)\n",
    "    free_virions = (system.pi * v) - (system.sigma*v) - infected \n",
    "    \n",
    "    R -= (infected + lymph_death)\n",
    "    R += new_lymph\n",
    "    \n",
    "    L = Latently_infected - actively_infected\n",
    "    \n",
    "    E += (actively_infected + actively_infected_fromR)\n",
    "    \n",
    "    i += infected - recovered\n",
    "    r += recovered\n",
    "    \n",
    "    return State(S=s, I=i, R=r)"
   ]
  }
 ],
 "metadata": {
  "kernelspec": {
   "display_name": "Python 3",
   "language": "python",
   "name": "python3"
  },
  "language_info": {
   "codemirror_mode": {
    "name": "ipython",
    "version": 3
   },
   "file_extension": ".py",
   "mimetype": "text/x-python",
   "name": "python",
   "nbconvert_exporter": "python",
   "pygments_lexer": "ipython3",
   "version": "3.6.6"
  }
 },
 "nbformat": 4,
 "nbformat_minor": 2
}
