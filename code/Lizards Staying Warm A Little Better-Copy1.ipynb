{
 "cells": [
  {
   "cell_type": "code",
   "execution_count": 10,
   "metadata": {},
   "outputs": [],
   "source": [
    "# Configure Jupyter so figures appear in the notebook\n",
    "%matplotlib inline\n",
    "\n",
    "# Configure Jupyter to display the assigned value after an assignment\n",
    "%config InteractiveShell.ast_node_interactivity='last_expr_or_assign'\n",
    "\n",
    "# import functions from the modsim library\n",
    "from modsim import *\n",
    "\n",
    "import matplotlib.pyplot as plt"
   ]
  },
  {
   "cell_type": "markdown",
   "metadata": {},
   "source": [
    "# L. Viva-Para Lizard Project!"
   ]
  },
  {
   "cell_type": "markdown",
   "metadata": {},
   "source": [
    "By: Katie Gosbee and Meagan Rittmanic"
   ]
  },
  {
   "cell_type": "code",
   "execution_count": 11,
   "metadata": {},
   "outputs": [],
   "source": [
    "def make_system(Tenv, K1, K2, K3,depth, delta, dt, side_length, C1, C2, C3, CL, D1, D2, D3, ML):\n",
    "    \"\"\"Make a system object for the Lizard model.\n",
    "    returns: System object\n",
    "    \"\"\"\n",
    "    init = State(Lay1=26.7, Lay2=26.7, Lay3=26.7, L= 26.7)  \n",
    "    \n",
    "    t0 = 0\n",
    "    t_end = 30*(1/dt) #in seconds\n",
    "    dt = dt\n",
    "\n",
    "    return System(init=init, t0=t0, t_end=t_end, \n",
    "                  Tenv=Tenv, K1=K1, K2=K2, K3=K3,\n",
    "                  depth=depth, delta=delta, dt=dt, \n",
    "                  side_length=side_length, C1=C1, \n",
    "                  C2=C2, C3=C3, CL=CL, D1 = D1, D2=D2, \n",
    "                  D3=D3, ML=ML)"
   ]
  },
  {
   "cell_type": "code",
   "execution_count": 14,
   "metadata": {},
   "outputs": [],
   "source": [
    "def update_func(state, t, system):\n",
    "    \"\"\"Update the model.  \n",
    "    returns: State ()     \n",
    "    \"\"\"\n",
    "    unpack(system)\n",
    "    lay1, lay2, lay3, l = state\n",
    "   \n",
    "    #The below four diff EQs represent the rate of heat changing \n",
    "    #between the outer layer to the inner layer(lizard)\"\"\"\n",
    "\n",
    "    d1dt = K1*(side_length**3)*(Tenv-lay1)/depth      \n",
    "    d2dt = K2*((side_length-.0127)**3)*(lay1-lay2)/depth\n",
    "    d3dt = K3*((side_length-.0254)**3)*(lay2-lay3)/depth\n",
    "    dLdt = ((side_length-.0381)**3)*0.5*(lay3-l)/(delta/2)\n",
    "    \n",
    "    lay1 += (d1dt/(C1*(D1*(side_length**3-(side_length-0.0127)**3))))*dt #these update the temps of each layer\n",
    "    lay2 += (d2dt/(C2*(D2*((side_length-.0127)**3-(side_length-0.0254)**3))))*dt\n",
    "    lay3 += (d3dt/(C3*(D3*((side_length-.0254)**3-(side_length-0.381)**3))))*dt\n",
    "    l += (dLdt/(CL*ML))*dt\n",
    "\n",
    "    return State(Lay1=lay1, Lay2=lay2, Lay3=lay3, L=l)"
   ]
  },
  {
   "cell_type": "code",
   "execution_count": 15,
   "metadata": {},
   "outputs": [],
   "source": [
    "def run_simulation(system, update_func):\n",
    "    \"\"\"Runs a simulation of the system.     \n",
    "    system: System object\n",
    "    update_func: function that updates state    \n",
    "    returns: TimeFrame\n",
    "    \"\"\"\n",
    "    unpack(system)\n",
    "    \n",
    "    frame = TimeFrame(columns=init.index)\n",
    "    frame.row[t0] = init\n",
    "    \n",
    "    for t in linrange(t0, t_end):\n",
    "        frame.row[t+1] = update_func(frame.row[t], t, system)\n",
    "    return frame.L"
   ]
  },
  {
   "cell_type": "code",
   "execution_count": 5,
   "metadata": {},
   "outputs": [
    {
     "data": {
      "image/png": "[encoded data removed]",
      "text/plain": [
       "<Figure size 432x288 with 1 Axes>"
      ]
     },
     "metadata": {
      "needs_background": "light"
     },
     "output_type": "display_data"
    }
   ],
   "source": [
    "\"\"\"Each pair of three lines creates the function, runs the simulation with that particular function, and then plots the results\n",
    "   Each function has a permutation of the three layers\"\"\"\n",
    "\n",
    "system = make_system(-10, .35, .15, .03, .0127, .0762, 0.1, .2032, 0.24, 0.19, 0.33, 0.899) \n",
    "results = run_simulation(system, update_func)\n",
    "plot(results, label = 'epoxy-soild-styro')\n",
    "\n",
    "system = make_system(-10, .03, .15, .35, .0127, .0762, 0.1, .2032, 0.33, 0.19, 0.24, 0.899) #.03 = Polystyrene, expanded styrofoam\n",
    "results = run_simulation(system, update_func)\n",
    "plot(results, label = 'styro-soil-epoxy')\n",
    "\n",
    "system = make_system(-10, .15, .03, .35, .0127, .0762, 0.1, .2032, 0.19, 0.33, 0.24, 0.899) #.15 = soil\n",
    "results = run_simulation(system, update_func)\n",
    "plot(results, label = 'soil-styro-epoxy')\n",
    "\n",
    "system = make_system(-10, .35, .03, .15, .0127, .0762, 0.1, .2032, 0.24, 0.33, 0.19, 0.899)\n",
    "results = run_simulation(system, update_func)\n",
    "plot(results, label = 'epoxy-styro-soil')\n",
    "\n",
    "system = make_system(-10, .03, .35, .15, .0127, .0762, 0.1, .2032, 0.33, 0.24, 0.19, 0.899)\n",
    "results = run_simulation(system, update_func)\n",
    "plot(results, label = 'styro-epoxy-soil')\n",
    "\n",
    "system = make_system(-10, .15, .35, .03, .0127, .0762, 0.1, .2032, 0.19, 0.24, 0.33, 0.899)\n",
    "results = run_simulation(system, update_func)\n",
    "plot(results, label = 'soil-epoxy-styro')\n",
    "\n",
    "decorate(xlabel='Time (days)',\n",
    "         ylabel='Joules',\n",
    "         title = 'Different Orders of Layers and Lizards Temp')"
   ]
  },
  {
   "cell_type": "code",
   "execution_count": 6,
   "metadata": {},
   "outputs": [
    {
     "ename": "SyntaxError",
     "evalue": "invalid syntax (<ipython-input-6-d2263037044b>, line 1)",
     "output_type": "error",
     "traceback": [
      "\u001b[1;36m  File \u001b[1;32m\"<ipython-input-6-d2263037044b>\"\u001b[1;36m, line \u001b[1;32m1\u001b[0m\n\u001b[1;33m    dQdt =\u001b[0m\n\u001b[1;37m           ^\u001b[0m\n\u001b[1;31mSyntaxError\u001b[0m\u001b[1;31m:\u001b[0m invalid syntax\n"
     ]
    }
   ],
   "source": [
    "dQdt = "
   ]
  }
 ],
 "metadata": {
  "kernelspec": {
   "display_name": "Python 3",
   "language": "python",
   "name": "python3"
  },
  "language_info": {
   "codemirror_mode": {
    "name": "ipython",
    "version": 3
   },
   "file_extension": ".py",
   "mimetype": "text/x-python",
   "name": "python",
   "nbconvert_exporter": "python",
   "pygments_lexer": "ipython3",
   "version": "3.6.6"
  }
 },
 "nbformat": 4,
 "nbformat_minor": 2
}
