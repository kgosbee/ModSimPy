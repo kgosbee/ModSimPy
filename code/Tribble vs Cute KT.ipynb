{
 "cells": [
  {
   "cell_type": "code",
   "execution_count": 1,
   "metadata": {},
   "outputs": [],
   "source": [
    "# Configure Jupyter so figures appear in the notebook\n",
    "%matplotlib inline\n",
    "\n",
    "# Configure Jupyter to display the assigned value after an assignment\n",
    "%config InteractiveShell.ast_node_interactivity='last_expr_or_assign'\n",
    "\n",
    "# import functions from the modsim.py module\n",
    "from modsim import *\n",
    "\n",
    "from pandas import read_html"
   ]
  },
  {
   "cell_type": "code",
   "execution_count": 14,
   "metadata": {},
   "outputs": [
    {
     "ename": "SyntaxError",
     "evalue": "positional argument follows keyword argument (<ipython-input-14-10038c2c9d56>, line 11)",
     "output_type": "error",
     "traceback": [
      "\u001b[1;36m  File \u001b[1;32m\"<ipython-input-14-10038c2c9d56>\"\u001b[1;36m, line \u001b[1;32m11\u001b[0m\n\u001b[1;33m    death_rate-0.05)\u001b[0m\n\u001b[1;37m    ^\u001b[0m\n\u001b[1;31mSyntaxError\u001b[0m\u001b[1;31m:\u001b[0m positional argument follows keyword argument\n"
     ]
    }
   ],
   "source": [
    "#Tribble_Fish = System(none??)\n",
    "#Cute_Fish = System(birth_rate = 0.05\n",
    "#                   carrying_capacity = x)\n",
    "\n",
    "Cute_birth_rate = 0.05\n",
    "Cute_carrying_capacity = 100\n",
    "AR = 100\n",
    "tribble_total_pop = 2\n",
    "Tribble = State(pop=2)\n",
    "Cute = State(pop=carrying_capacity, birth_rate = 0.05, \n",
    "             death_rate-0.05)\n",
    "\n",
    "\n",
    "def update_cute_fish_annual_growth(AR):\n",
    "    Cute_death_rate = .05 + ((1-(AR/100)))*0.95\n",
    "    Cute_annual_growth = Cute_totalPop * (Cute_birth_rate - Cute_death_rate)\n",
    "    print(Cute_birth_rate - Cute_death_rate)\n",
    "    return Cute_annual_growth\n",
    "\n",
    "def update_tribble_pop(growth_rate):\n",
    "    Tribble.pop += (Tribbles.pop * growth_rate)\n",
    "    return Tribble.pop\n",
    "\n",
    "#def update_tribble_pop(tribble_growth_rate):\n",
    " #   tribble_annual_growth = tribble_total_pop * tribble_growth_rate\n",
    "  #  return (tribble_total_pop + tribble_annual_growth)"
   ]
  },
  {
   "cell_type": "code",
   "execution_count": 11,
   "metadata": {},
   "outputs": [
    {
     "ename": "TypeError",
     "evalue": "'function' object is not subscriptable",
     "output_type": "error",
     "traceback": [
      "\u001b[1;31m---------------------------------------------------------------------------\u001b[0m",
      "\u001b[1;31mTypeError\u001b[0m                                 Traceback (most recent call last)",
      "\u001b[1;32m<ipython-input-11-b24753dff69c>\u001b[0m in \u001b[0;36m<module>\u001b[1;34m()\u001b[0m\n\u001b[0;32m      9\u001b[0m \u001b[1;33m\u001b[0m\u001b[0m\n\u001b[0;32m     10\u001b[0m \u001b[1;33m\u001b[0m\u001b[0m\n\u001b[1;32m---> 11\u001b[1;33m \u001b[0mrun_simulation\u001b[0m\u001b[1;33m(\u001b[0m\u001b[1;36m0.5\u001b[0m\u001b[1;33m)\u001b[0m\u001b[1;33m\u001b[0m\u001b[0m\n\u001b[0m\u001b[0;32m     12\u001b[0m decorate(xlabel='Years Passed', \n\u001b[0;32m     13\u001b[0m          \u001b[0mylabel\u001b[0m\u001b[1;33m=\u001b[0m\u001b[1;34m'Fish population'\u001b[0m\u001b[1;33m,\u001b[0m\u001b[1;33m\u001b[0m\u001b[0m\n",
      "\u001b[1;32m<ipython-input-11-b24753dff69c>\u001b[0m in \u001b[0;36mrun_simulation\u001b[1;34m(range_of_growth_rate)\u001b[0m\n\u001b[0;32m      4\u001b[0m     \u001b[1;32mfor\u001b[0m \u001b[0mt\u001b[0m \u001b[1;32min\u001b[0m \u001b[0mrange\u001b[0m\u001b[1;33m(\u001b[0m\u001b[1;36m20\u001b[0m\u001b[1;33m)\u001b[0m\u001b[1;33m:\u001b[0m\u001b[1;33m\u001b[0m\u001b[0m\n\u001b[0;32m      5\u001b[0m         \u001b[1;31m#tribble_total_pop = update_tribble_pop(t) the ten can be changed throughout the different iterations of graphs\u001b[0m\u001b[1;33m\u001b[0m\u001b[1;33m\u001b[0m\u001b[0m\n\u001b[1;32m----> 6\u001b[1;33m         \u001b[0mresults\u001b[0m\u001b[1;33m[\u001b[0m\u001b[0mt\u001b[0m\u001b[1;33m+\u001b[0m\u001b[1;36m1\u001b[0m\u001b[1;33m]\u001b[0m \u001b[1;33m=\u001b[0m \u001b[0mresults\u001b[0m\u001b[1;33m[\u001b[0m\u001b[0mt\u001b[0m\u001b[1;33m]\u001b[0m \u001b[1;33m+\u001b[0m \u001b[0mupdate_tribble_pop\u001b[0m\u001b[1;33m[\u001b[0m\u001b[0mrange_of_growth_rate\u001b[0m\u001b[1;33m]\u001b[0m \u001b[1;33m*\u001b[0m \u001b[1;33m(\u001b[0m\u001b[1;36m1\u001b[0m\u001b[1;33m-\u001b[0m\u001b[0mresults\u001b[0m\u001b[1;33m[\u001b[0m\u001b[0mt\u001b[0m\u001b[1;33m]\u001b[0m\u001b[1;33m/\u001b[0m\u001b[1;36m600\u001b[0m\u001b[1;33m)\u001b[0m\u001b[1;33m\u001b[0m\u001b[0m\n\u001b[0m\u001b[0;32m      7\u001b[0m     \u001b[0mprint\u001b[0m\u001b[1;33m(\u001b[0m\u001b[0mresults\u001b[0m\u001b[1;33m)\u001b[0m\u001b[1;33m\u001b[0m\u001b[0m\n\u001b[0;32m      8\u001b[0m     \u001b[0mplot\u001b[0m\u001b[1;33m(\u001b[0m\u001b[0mresults\u001b[0m\u001b[1;33m)\u001b[0m\u001b[1;33m\u001b[0m\u001b[0m\n",
      "\u001b[1;31mTypeError\u001b[0m: 'function' object is not subscriptable"
     ]
    }
   ],
   "source": [
    "def run_simulation(range_of_growth_rate):\n",
    "    results = TimeSeries()\n",
    "    results[0] = 2\n",
    "    for t in range(20):\n",
    "        #tribble_total_pop = update_tribble_pop(t) the ten can be changed throughout the different iterations of graphs\n",
    "        results[t+1] = results[t] + update_tribble_pop[range_of_growth_rate] * (1-results[t]/600) \n",
    "    print(results)\n",
    "    plot(results)\n",
    "    \n",
    "\n",
    "run_simulation(0.5)\n",
    "decorate(xlabel='Years Passed', \n",
    "         ylabel='Fish population',\n",
    "         title='Quadratic model')\n",
    "\n",
    "        \n",
    "        "
   ]
  },
  {
   "cell_type": "code",
   "execution_count": null,
   "metadata": {},
   "outputs": [],
   "source": []
  },
  {
   "cell_type": "code",
   "execution_count": null,
   "metadata": {},
   "outputs": [],
   "source": []
  },
  {
   "cell_type": "code",
   "execution_count": null,
   "metadata": {},
   "outputs": [],
   "source": []
  }
 ],
 "metadata": {
  "kernelspec": {
   "display_name": "Python 3",
   "language": "python",
   "name": "python3"
  },
  "language_info": {
   "codemirror_mode": {
    "name": "ipython",
    "version": 3
   },
   "file_extension": ".py",
   "mimetype": "text/x-python",
   "name": "python",
   "nbconvert_exporter": "python",
   "pygments_lexer": "ipython3",
   "version": "3.6.6"
  }
 },
 "nbformat": 4,
 "nbformat_minor": 2
}
