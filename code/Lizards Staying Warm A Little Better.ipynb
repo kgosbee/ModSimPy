{
 "cells": [
  {
   "cell_type": "code",
   "execution_count": 20,
   "metadata": {},
   "outputs": [],
   "source": [
    "# Configure Jupyter so figures appear in the notebook\n",
    "%matplotlib inline\n",
    "\n",
    "# Configure Jupyter to display the assigned value after an assignment\n",
    "%config InteractiveShell.ast_node_interactivity='last_expr_or_assign'\n",
    "\n",
    "# import functions from the modsim library\n",
    "from modsim import *\n",
    "\n",
    "import matplotlib.pyplot as plt"
   ]
  },
  {
   "cell_type": "code",
   "execution_count": 30,
   "metadata": {},
   "outputs": [],
   "source": [
    "def make_system(Tenv, K1, K2, K3,depth, delta, dt, side_length):\n",
    "    \"\"\"Make a system object for the Lizard model.\n",
    "    \n",
    "    \n",
    "    returns: System object\n",
    "    \n",
    "    \"\"\"\n",
    "    init = State(Lay1=26.7, Lay2=26.7, Lay3=26.7, L= 26.7)  \n",
    "    \n",
    "    t0 = 0\n",
    "    t_end = 30*(1/dt) #in days\n",
    "    dt = dt\n",
    "\n",
    "    return System(init=init, t0=t0, t_end=t_end, Tenv=Tenv, K1=K1, K2=K2, K3=K3,\n",
    "                  depth=depth, delta=delta, dt=dt, side_length=side_length)"
   ]
  },
  {
   "cell_type": "code",
   "execution_count": 31,
   "metadata": {},
   "outputs": [],
   "source": [
    "def update_func(state, t, system):\n",
    "    \"\"\"Update the model.\n",
    "    \n",
    "    returns: State ()    \n",
    "   \n",
    "    \"\"\"\n",
    "    unpack(system)\n",
    "    lay1, lay2, lay3, l = state\n",
    "   \n",
    "    d1dt = K1*(side_length**3)*(Tenv-lay1)/depth    \n",
    "    d2dt = K2*((side_length-.0127)**3)*(lay1-lay2)/depth\n",
    "    d3dt = K3*((side_length-.0254)**3)*(lay2-lay3)/depth\n",
    "    dLdt = ((side_length-.0381)**3)*0.5*(lay3-l)/(delta/2)\n",
    "    \n",
    "    lay1+= d1dt*dt\n",
    "    lay2 += d2dt*dt\n",
    "    lay3 += d3dt*dt\n",
    "    l += dLdt*dt\n",
    "\n",
    "    return State(Lay1=lay1, Lay2=lay2, Lay3=lay3, L=l)"
   ]
  },
  {
   "cell_type": "code",
   "execution_count": 34,
   "metadata": {},
   "outputs": [],
   "source": [
    "def run_simulation(system, update_func):\n",
    "    \"\"\"Runs a simulation of the system.\n",
    "        \n",
    "    system: System object\n",
    "    update_func: function that updates state\n",
    "    \n",
    "    returns: TimeFrame\n",
    "    \"\"\"\n",
    "    unpack(system)\n",
    "    \n",
    "    frame = TimeFrame(columns=init.index)\n",
    "    frame.row[t0] = init\n",
    "    \n",
    "    for t in linrange(t0, t_end):\n",
    "        frame.row[t+1] = update_func(frame.row[t], t, system)\n",
    "        #print(frame.row[t+1])\n",
    "        #print(t)\n",
    "    plot(frame.L)"
   ]
  },
  {
   "cell_type": "code",
   "execution_count": 35,
   "metadata": {},
   "outputs": [],
   "source": [
    "def plot_results(L):\n",
    "    \"\"\"Plot the results of a SIR model.\n",
    "    \n",
    "    S: TimeSeries\n",
    "    I: TimeSeries\n",
    "    R: TimeSeries\n",
    "    \"\"\"\n",
    "    plot(L, '--', label='L')\n",
    "    decorate(xlabel='Time (days)',\n",
    "             ylabel='Temperature')"
   ]
  },
  {
   "cell_type": "code",
   "execution_count": 42,
   "metadata": {},
   "outputs": [
    {
     "data": {
      "image/png": "[encoded data removed]",
      "text/plain": [
       "<Figure size 432x288 with 1 Axes>"
      ]
     },
     "metadata": {
      "needs_background": "light"
     },
     "output_type": "display_data"
    }
   ],
   "source": [
    "system = make_system(-10, .35, .15, .03, .0127, .0762, 0.1, .2032)\n",
    "results = run_simulation(system, update_func)\n",
    "system = make_system(-10, .03, .15, .35, .0127, .0762, 0.1, .2032)\n",
    "results = run_simulation(system, update_func)\n",
    "system = make_system(-10, .15, .03, .35, .0127, .0762, 0.1, .2032)\n",
    "results = run_simulation(system, update_func)\n",
    "system = make_system(-10, .35, .03, .15, .0127, .0762, 0.1, .2032)\n",
    "results = run_simulation(system, update_func)\n",
    "system = make_system(-10, .03, .35, .15, .0127, .0762, 0.1, .2032)\n",
    "results = run_simulation(system, update_func)\n",
    "system = make_system(-10, .15, .35, .03, .0127, .0762, 0.1, .2032)\n",
    "results = run_simulation(system, update_func)"
   ]
  },
  {
   "cell_type": "code",
   "execution_count": null,
   "metadata": {},
   "outputs": [],
   "source": []
  }
 ],
 "metadata": {
  "kernelspec": {
   "display_name": "Python 3",
   "language": "python",
   "name": "python3"
  },
  "language_info": {
   "codemirror_mode": {
    "name": "ipython",
    "version": 3
   },
   "file_extension": ".py",
   "mimetype": "text/x-python",
   "name": "python",
   "nbconvert_exporter": "python",
   "pygments_lexer": "ipython3",
   "version": "3.6.6"
  }
 },
 "nbformat": 4,
 "nbformat_minor": 2
}
